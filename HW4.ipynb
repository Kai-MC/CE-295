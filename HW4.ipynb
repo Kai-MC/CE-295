{
 "cells": [
  {
   "cell_type": "code",
   "execution_count": null,
   "metadata": {
    "collapsed": true
   },
   "outputs": [],
   "source": [
    "import numpy as np\n",
    "import pandas as pd\n",
    "import matplotlib.pyplot as plt\n",
    "# # Default plot configurations\n",
    "# %matplotlib inline\n",
    "# sns.set()\n",
    "# plt.rcParams['figure.figsize'] = (16,8)\n",
    "# plt.rcParams['figure.dpi'] = 100\n",
    "# plt.rcParams['xtick.labelsize'] = 15\n",
    "# plt.rcParams['ytick.labelsize'] = 15\n",
    "# plt.rcParams['legend.fontsize'] = 15\n",
    "# plt.rcParams['axes.labelsize'] = 15"
   ]
  },
  {
   "attachments": {},
   "cell_type": "markdown",
   "metadata": {},
   "source": [
    "# Problem 1: Exploratory Data Analysis"
   ]
  },
  {
   "cell_type": "code",
   "execution_count": null,
   "metadata": {},
   "outputs": [],
   "source": [
    "#1a\n",
    "data_train = pd.read_csv('HW4_Train_Data.csv')\n",
    "building_id = np.arange(1,24)\n",
    "building_avg = pd.Series(data_train.iloc[:, 3:].mean().tolist(), index=building_id)\n",
    "building_std = pd.Series(data_train.iloc[:, 3:].std().tolist(), index=building_id)\n",
    "fig, ax = plt.subplots(figsize=(10, 6))\n",
    "plt.bar(building_id, building_avg)\n",
    "plt.errorbar(building_id, building_avg, yerr=building_std, fmt='.', ms=5, c='r', capsize=3)\n",
    "plt.xticks(building_id)\n",
    "plt.xlim([0, 24])\n",
    "plt.xlabel('Buiding index number')\n",
    "plt.ylabel('Average hourly energy consumption (kWh)')\n",
    "plt.show()"
   ]
  },
  {
   "cell_type": "code",
   "execution_count": null,
   "metadata": {},
   "outputs": [],
   "source": [
    "# 1b\n",
    "bldg_info = data_train.iloc[:, 3:].T\n",
    "bldg_neg = bldg_info[(bldg_info.iloc[:, :] < 0).any(axis = 1)]\n",
    "bldg_neg"
   ]
  },
  {
   "cell_type": "code",
   "execution_count": null,
   "metadata": {},
   "outputs": [],
   "source": [
    "datetime = pd.to_datetime(data_train['Start Time (GMT-0800,PST)'])\n",
    "\n",
    "data = bldg_info.T.drop(['Bldg6 (kWh)'], axis=1)\n",
    "data = data / data.max()\n",
    "data['week_of_year'] =datetime.dt.isocalendar().week\n",
    "data['day_of_week'] = datetime.dt.dayofweek\n",
    "data['hour_of_day'] = datetime.dt.hour\n",
    "\n",
    "# Create a 4-D array\n",
    "energy_4d_array = np.zeros((22, 53, 7, 24))\n",
    "\n",
    "for index, row in data.iloc[:,:22].iterrows():\n",
    "    week = data.loc[index, 'week_of_year'] - 1\n",
    "    day = data.loc[index, 'day_of_week']\n",
    "    hour = data.loc[index, 'hour_of_day']\n",
    "    energy_4d_array[:, week, day, hour] = row.values"
   ]
  },
  {
   "cell_type": "code",
   "execution_count": null,
   "metadata": {},
   "outputs": [],
   "source": [
    "\n",
    "day_names = ['Monday', 'Tuesday', 'Wednesday', 'Thursday', 'Friday', 'Saturday', 'Sunday']\n",
    "\n",
    "for day in range(7):\n",
    "    fig, ax = plt.subplots(figsize=(10, 8))\n",
    "    for building in range(22):\n",
    "        for week in range(53):\n",
    "            ax.plot(range(24), energy_4d_array[building, week, day, :], linestyle='--',linewidth = 0.5)\n",
    "    \n",
    "    # Plot the average hourly energy consumption in a thick black line\n",
    "    avg_hourly_energy = energy_4d_array[:, :, day, :].mean(axis=(0, 1))\n",
    "    ax.plot(range(24), avg_hourly_energy, 'k-', linewidth=2)\n",
    "    \n",
    "    ax.set_xlabel('Hour of Day')\n",
    "    ax.set_ylabel('Normalized Hourly Energy Consumption')\n",
    "    ax.set_title(f'{day_names[day]}')\n",
    "    plt.show()\n"
   ]
  },
  {
   "attachments": {},
   "cell_type": "markdown",
   "metadata": {},
   "source": [
    "# Problem 2: Average Model"
   ]
  },
  {
   "cell_type": "code",
   "execution_count": null,
   "metadata": {},
   "outputs": [],
   "source": [
    "test = pd.read_csv('HW4_Test_Data.csv')\n",
    "testtime = pd.to_datetime(test['TestTime'])\n",
    "\n"
   ]
  },
  {
   "cell_type": "code",
   "execution_count": null,
   "metadata": {},
   "outputs": [],
   "source": [
    "test['week_of_year'] =testtime.dt.isocalendar().week-1\n",
    "test['day_of_week'] = testtime.dt.dayofweek\n",
    "test['hour_of_day'] = testtime.dt.hour"
   ]
  },
  {
   "cell_type": "code",
   "execution_count": null,
   "metadata": {},
   "outputs": [],
   "source": [
    "data\n",
    "avg=[]\n",
    "for day in range(7):\n",
    "    avg.append(data[data['day_of_week'] == day].groupby('hour_of_day').mean().iloc[:, :-2].mean(axis=1))"
   ]
  },
  {
   "cell_type": "code",
   "execution_count": null,
   "metadata": {},
   "outputs": [],
   "source": [
    "test"
   ]
  },
  {
   "cell_type": "code",
   "execution_count": null,
   "metadata": {},
   "outputs": [],
   "source": [
    "test"
   ]
  },
  {
   "cell_type": "code",
   "execution_count": null,
   "metadata": {},
   "outputs": [],
   "source": [
    "P_pred = np.zeros(168)\n",
    "for i in range(0, 168):\n",
    "    U = np.zeros((7, 24))\n",
    "    U[test[\"day_of_week\"][i], test[\"hour_of_day\"][i]] = 1\n",
    "    P_pred[i]=(sum(sum(avg * U)))"
   ]
  },
  {
   "cell_type": "code",
   "execution_count": null,
   "metadata": {},
   "outputs": [],
   "source": [
    "P_pred.shape"
   ]
  },
  {
   "cell_type": "code",
   "execution_count": null,
   "metadata": {},
   "outputs": [],
   "source": [
    "test.loc[:,\"Avg\"] = P_pred"
   ]
  },
  {
   "cell_type": "code",
   "execution_count": null,
   "metadata": {},
   "outputs": [],
   "source": [
    "day_names = ['Monday', 'Tuesday', 'Wednesday', 'Thursday', 'Friday', 'Saturday', 'Sunday']\n",
    "AVG_mod = np.array(P_pred).reshape(7,24)\n",
    "\n",
    "\n",
    "for day in range(7):\n",
    "    fig, ax = plt.subplots(figsize=(10, 5))\n",
    "    data_tmp = test[test['day_of_week'] == day]\n",
    "    ax.plot(data_tmp[['hour_of_day']], data_tmp[['TestBldg']])\n",
    "    ax.plot(np.arange(24), AVG_mod[day]\n",
    "            , label='Average Model')\n",
    "    ax.set_xlabel('Hour-of-day')\n",
    "    ax.set_ylabel('Hourly energy consumption')\n",
    "    ax.set_title(f'{day_names[day]}')\n",
    "\n",
    "    plt.show()"
   ]
  },
  {
   "cell_type": "code",
   "execution_count": null,
   "metadata": {},
   "outputs": [],
   "source": [
    "## 2b\n",
    "MAE_Dow = []\n",
    "for day in range(7):\n",
    "    MAE_Dow.append(np.mean(np.abs(test[test['day_of_week'] == day]['TestBldg'].values\n",
    "                                  -avg[day].values)))\n",
    "MAE_Dow = pd.Series(MAE_Dow, day_names)\n",
    "print('MAE for DoW:\\n', MAE_Dow, sep='')"
   ]
  },
  {
   "cell_type": "code",
   "execution_count": null,
   "metadata": {},
   "outputs": [],
   "source": [
    "# For entire week\n",
    "MAE_week = np.mean(abs(test['TestBldg'].values - np.array(P_pred)))\n",
    "print('MAE for the entire week:', MAE_week)"
   ]
  },
  {
   "attachments": {},
   "cell_type": "markdown",
   "metadata": {},
   "source": [
    "# Problem 3: Autoregressive with eXogeneous Inputs Model (ARX)"
   ]
  },
  {
   "cell_type": "code",
   "execution_count": null,
   "metadata": {},
   "outputs": [],
   "source": [
    "df_melt = pd.melt(data, id_vars = [\"week_of_year\", \"day_of_week\", \"hour_of_day\"], var_name = \"Bldg\", value_name = \"Energy\")\n"
   ]
  },
  {
   "cell_type": "code",
   "execution_count": null,
   "metadata": {},
   "outputs": [],
   "source": [
    "test[[\"day_of_week\",\"hour_of_day\",\"Avg\"]]"
   ]
  },
  {
   "cell_type": "code",
   "execution_count": null,
   "metadata": {},
   "outputs": [],
   "source": [
    "ARX_df = df_melt.merge(test[[\"day_of_week\",\"hour_of_day\",\"Avg\"]], how='left', on=['day_of_week', 'hour_of_day'])"
   ]
  },
  {
   "cell_type": "code",
   "execution_count": null,
   "metadata": {},
   "outputs": [],
   "source": [
    "ARX_df[\"Y\"] = ARX_df[\"Energy\"] - ARX_df[\"Avg\"]"
   ]
  },
  {
   "cell_type": "code",
   "execution_count": null,
   "metadata": {},
   "outputs": [],
   "source": [
    "unique_buildings = ARX_df['Bldg'].unique()\n",
    "\n",
    "# Initialize empty DataFrames for lag1 and lag2\n",
    "lag1 = pd.DataFrame()\n",
    "lag2 = pd.DataFrame()\n",
    "lag3 = pd.DataFrame()\n",
    "# Loop through each building and create the lag columns\n",
    "for building in unique_buildings:\n",
    "    building_data = ARX_df[ARX_df['Bldg'] == building]\n",
    "    \n",
    "    # Create lag1 and lag2 columns for the current building\n",
    "    building_data['lag1'] = building_data['Energy'].shift(1)\n",
    "    building_data['lag2'] = building_data['Energy'].shift(2)\n",
    "    building_data['lag3'] = building_data['Energy'].shift(3)\n",
    "    # Concatenate the building_data with the lag columns to the respective DataFrames\n",
    "    lag1 = pd.concat([lag1, building_data])\n",
    "    lag2 = pd.concat([lag2, building_data])\n",
    "    lag3 = pd.concat([lag3, building_data])"
   ]
  },
  {
   "cell_type": "code",
   "execution_count": null,
   "metadata": {},
   "outputs": [],
   "source": [
    "Phi = lag3[['lag1','lag2', 'lag3']].dropna()"
   ]
  },
  {
   "cell_type": "code",
   "execution_count": null,
   "metadata": {},
   "outputs": [],
   "source": [
    "Y = lag3.dropna()[\"Y\"]"
   ]
  },
  {
   "cell_type": "code",
   "execution_count": null,
   "metadata": {},
   "outputs": [],
   "source": [
    "THETA = (np.linalg.inv(Phi.T @ Phi) @ Phi.T) @ Y\n",
    "print(\"alpha_1*: \", THETA[0])\n",
    "print(\"alpha_2*: \", THETA[1])\n",
    "print(\"alpha_3*: \", THETA[2])"
   ]
  },
  {
   "cell_type": "code",
   "execution_count": null,
   "metadata": {},
   "outputs": [],
   "source": [
    "test"
   ]
  },
  {
   "cell_type": "code",
   "execution_count": null,
   "metadata": {},
   "outputs": [],
   "source": [
    "lag_df = test[[\"TestBldg\"]]\n",
    "lag_df['lag1'] = lag_df['TestBldg'].shift(1)\n",
    "lag_df['lag2'] = lag_df['TestBldg'].shift(2)\n",
    "lag_df['lag3'] = lag_df['TestBldg'].shift(3)\n",
    "lag_df"
   ]
  },
  {
   "cell_type": "code",
   "execution_count": null,
   "metadata": {},
   "outputs": [],
   "source": [
    "test[\"ARX\"] = (lag_df[\"lag1\"]*THETA[0]) + (lag_df[\"lag2\"]*THETA[1]) + (lag_df[\"lag3\"]*THETA[2]) + test[\"Avg\"]"
   ]
  },
  {
   "cell_type": "code",
   "execution_count": null,
   "metadata": {},
   "outputs": [],
   "source": [
    "test"
   ]
  },
  {
   "cell_type": "code",
   "execution_count": null,
   "metadata": {},
   "outputs": [],
   "source": [
    "# Plot test data and models\n",
    "ax = test.groupby(\"day_of_week\").plot.line(x = \"hour_of_day\", y = [\"TestBldg\", \"Avg\", \"ARX\"], label = [\"Test Data\", \"Average Model\", \"ARX Model\"], lw = 1)\n",
    "days = [\"Monday\", \"Tuesday\", \"Wednesday\", \"Thursday\", \"Friday\", \"Saturday\", \"Sunday\"]\n",
    "for i in range(0, len(days)):\n",
    "    ax[i].set_title(days[i])\n",
    "    ax[i].set_xlabel(\"Time of Day\")\n",
    "    ax[i].set_ylabel(\"Normalize Hourly Energy\")"
   ]
  },
  {
   "cell_type": "code",
   "execution_count": null,
   "metadata": {},
   "outputs": [],
   "source": [
    "# MAE for each DoW\n",
    "diff_arx = test.groupby(\"day_of_week\").apply(lambda row: abs(row[\"TestBldg\"] - row[\"ARX\"]))\n",
    "mae_dow_arx = [np.mean(diff_arx[i]) for i in range(0, len(days))]\n",
    "mae_dow_arx"
   ]
  },
  {
   "cell_type": "code",
   "execution_count": null,
   "metadata": {},
   "outputs": [],
   "source": [
    "# MAE for the entire week\n",
    "mae_week_arx = np.mean(abs(test[\"TestBldg\"] - test[\"ARX\"]))\n",
    "mae_week_arx"
   ]
  },
  {
   "attachments": {},
   "cell_type": "markdown",
   "metadata": {},
   "source": [
    "# Problem 4: Neural Network Model"
   ]
  },
  {
   "cell_type": "code",
   "execution_count": null,
   "metadata": {},
   "outputs": [],
   "source": [
    "# 4c\n",
    "gamma = 10**-5\n",
    "omega = np.array([0, 0, 0])\n",
    "iterations = 200\n",
    "x_i = Phi.T\n",
    "y_i = Y\n",
    "for i in range(iterations):\n",
    "    z_i = omega @ x_i\n",
    "    dJ_dd = y_i-np.tanh(z_i)\n",
    "    dd_df = -1\n",
    "    df_dz = 1-(np.tanh(z_i)**2)\n",
    "    dz_dw = x_i.T\n",
    "    dJ_dw = (dJ_dd * dd_df * df_dz).T @ dz_dw\n",
    "    omega = omega - gamma*dJ_dw\n",
    "omega"
   ]
  },
  {
   "cell_type": "code",
   "execution_count": null,
   "metadata": {},
   "outputs": [],
   "source": [
    "# 4d\n",
    "test.loc[:, \"NN\"] = np.tanh(lag_df.iloc[:, 1:].values @ omega) + test[\"Avg\"]\n",
    "\n",
    "# Plot test data and models\n",
    "ax = test.groupby(\"day_of_week\").plot.line(x = \"hour_of_day\", y = [\"TestBldg\", \"Avg\", \"ARX\", \"NN\"], label = [\"Test Data\", \"Average Model\", \"ARX Model\", \"NN\"], lw = 1)\n",
    "days = [\"Monday\", \"Tuesday\", \"Wednesday\", \"Thursday\", \"Friday\", \"Saturday\", \"Sunday\"]\n",
    "for i in range(0, len(days)):\n",
    "    ax[i].set_title(days[i])\n",
    "    ax[i].set_xlabel(\"Time of Day\")\n",
    "    ax[i].set_ylabel(\"Normalize Hourly Energy\")"
   ]
  },
  {
   "cell_type": "code",
   "execution_count": null,
   "metadata": {},
   "outputs": [],
   "source": [
    "# MAE for each DoW\n",
    "diff_nn = test.groupby(\"day_of_week\").apply(lambda row: abs(row[\"TestBldg\"] - row[\"NN\"]))\n",
    "mae_dow_nn = [np.mean(diff_nn[i]) for i in range(0, 7)]\n",
    "mae_dow_nn"
   ]
  },
  {
   "cell_type": "code",
   "execution_count": null,
   "metadata": {},
   "outputs": [],
   "source": [
    "mae_week_nn = np.mean(abs(test[\"TestBldg\"] - test[\"NN\"]))\n",
    "mae_week_nn"
   ]
  }
 ],
 "metadata": {
  "kernelspec": {
   "display_name": "base",
   "language": "python",
   "name": "python3"
  },
  "language_info": {
   "codemirror_mode": {
    "name": "ipython",
    "version": 3
   },
   "file_extension": ".py",
   "mimetype": "text/x-python",
   "name": "python",
   "nbconvert_exporter": "python",
   "pygments_lexer": "ipython3",
   "version": "3.9.12"
  },
  "vscode": {
   "interpreter": {
    "hash": "ceb1506b46516276a37092bbc165f5955cfd7341d09331fc384d6b0c4e7321e9"
   }
  }
 },
 "nbformat": 4,
 "nbformat_minor": 2
}
